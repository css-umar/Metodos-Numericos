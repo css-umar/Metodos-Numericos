{
  "nbformat": 4,
  "nbformat_minor": 0,
  "metadata": {
    "colab": {
      "provenance": [],
      "authorship_tag": "ABX9TyOSIaZmEEi6dYzEvNsP26RK",
      "include_colab_link": true
    },
    "kernelspec": {
      "name": "python3",
      "display_name": "Python 3"
    },
    "language_info": {
      "name": "python"
    }
  },
  "cells": [
    {
      "cell_type": "markdown",
      "metadata": {
        "id": "view-in-github",
        "colab_type": "text"
      },
      "source": [
        "<a href=\"https://colab.research.google.com/github/css-umar/Metodos-Numericos/blob/master/EjercicioProfundidadCritica.ipynb\" target=\"_parent\"><img src=\"https://colab.research.google.com/assets/colab-badge.svg\" alt=\"Open In Colab\"/></a>"
      ]
    },
    {
      "cell_type": "code",
      "execution_count": 2,
      "metadata": {
        "id": "5re3URma1-Ih"
      },
      "outputs": [],
      "source": [
        "import numpy as np\n",
        "import matplotlib.pyplot as plt\n"
      ]
    },
    {
      "cell_type": "markdown",
      "source": [
        "# Ejercicio: Determinación de la Profundidad Crítica en Canales Abiertos 🌊\n",
        "\n",
        "## 1. Contexto de Ingeniería Ambiental e Hidráulica\n",
        "En el diseño de canales de riego o drenaje, es fundamental calcular la **profundidad crítica ($\\text{y}$)** del flujo de agua. Este valor indica el punto de transición entre el flujo subcrítico (lento) y supercrítico (rápido), y es crucial para prevenir la erosión del canal.\n",
        "\n",
        "La ecuación general para determinar la profundidad crítica en un canal de **sección trapezoidal** es la siguiente (basada en el número de Froude igual a 1):\n",
        "\n",
        "$$\\frac{Q^2}{g} = \\frac{A^3}{T}$$\n",
        "\n",
        "Donde:\n",
        "* $Q$: Caudal volumétrico ($50 \\text{ m}^3/\\text{s}$).\n",
        "* $g$: Aceleración de la gravedad ($9.81 \\text{ m}/\\text{s}^2$).\n",
        "* $A$: Área de la sección transversal ($A = (\\text{b} + \\text{my})\\text{y}$).\n",
        "* $T$: Ancho de la superficie libre del agua ($T = \\text{b} + 2\\text{my}$).\n",
        "* $\\text{b}$: Ancho de la base del canal ($10 \\text{ m}$).\n",
        "* $\\text{m}$: Talud lateral (relación horizontal/vertical, $2$).\n",
        "* $\\text{y}$: Profundidad del agua (¡Nuestra variable incógnita!).\n",
        "\n",
        "## 2. Instrucciones para el Estudiante\n",
        "\n",
        "1.  **Planteamiento de la Ecuación No Lineal:** Sustituya las expresiones de $A$ y $T$, y todos los valores conocidos ($Q, g, b, m$) en la ecuación general. Luego, reescriba la expresión de la forma $f(\\text{y}) = 0$.\n",
        "2.  **Análisis y Selección del Método:** Grafique la función $f(\\text{y})$. Con base en la gráfica y la complejidad de la función, ¿cuál de los siguientes métodos es el más apropiado para encontrar la raíz ($\\text{y}$)?\n",
        "    * Método del Punto Fijo\n",
        "    * Método de la Secante\n",
        "    * Método de Newton-Raphson\n",
        "    * Método de Regula Falsi\n",
        "    \n",
        "    *Justifique su elección (convergencia, necesidad de la derivada, robustez).*\n",
        "3.  **Implementación:** Implemente el método seleccionado en Python para encontrar la profundidad crítica $\\text{y}$ con una tolerancia de error absoluta de $10^{-6}$."
      ],
      "metadata": {
        "id": "8Bld68Tt2Jm7"
      }
    },
    {
      "cell_type": "markdown",
      "source": [
        "# 3. Planteamiento\n",
        "\n",
        "## 3.1. Ecuación No Lineal $f(\\text{y}) = 0$\n",
        "\n",
        "Sustituyendo $Q=50$, $g=9.81$, $b=10$, $m=2$:\n",
        "\n",
        "$$\\frac{50^2}{9.81} = \\frac{(10\\text{y} + 2\\text{y}^2)^3}{10 + 4\\text{y}}$$\n",
        "\n",
        "Simplificando $\\frac{2500}{9.81} \\approx 254.842$:\n",
        "\n",
        "$$f(\\text{y}) = \\frac{(10\\text{y} + 2\\text{y}^2)^3}{10 + 4\\text{y}} - 254.842 = 0$$\n",
        "\n",
        "## 3.2. Selección del Método\n",
        "\n",
        "El método más adecuado es el **Método de Newton-Raphson**.\n",
        "\n",
        "**Justificación:**\n",
        "1.  **Función Suave:** La función $f(\\text{y})$ es continua y derivable, sin singularidades obvias cerca de la raíz.\n",
        "2.  **Convergencia Rápida:** La función es compleja, por lo que requerimos el método con la mayor velocidad (**convergencia cuadrática**) para minimizar las iteraciones y el tiempo de cálculo.\n",
        "3.  **Cálculo de la Derivada (Desafío Aceptable):** Aunque la derivada es algebraica compleja, se puede obtener con herramientas simbólicas (como SymPy) o de forma manual. Dado que es una función bien definida, Newton-Raphson es superior a los métodos de convergencia lineal (Bisección/Regula Falsi) o superlineal (Secante).\n",
        "\n",
        "**Derivada (Obtenida con SymPy):**\n",
        "$$f'(\\text{y}) = \\frac{3(10\\text{y} + 2\\text{y}^2)^2 (10+4\\text{y})(10+4\\text{y}) - 4(10\\text{y} + 2\\text{y}^2)^3}{(10 + 4\\text{y})^2}$$"
      ],
      "metadata": {
        "id": "fz3E4OYP2R8M"
      }
    },
    {
      "cell_type": "code",
      "source": [],
      "metadata": {
        "id": "k-MwlhvK3BXf"
      },
      "execution_count": null,
      "outputs": []
    }
  ]
}