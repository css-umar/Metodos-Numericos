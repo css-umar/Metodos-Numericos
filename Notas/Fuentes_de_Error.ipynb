{
  "nbformat": 4,
  "nbformat_minor": 0,
  "metadata": {
    "colab": {
      "provenance": []
    },
    "kernelspec": {
      "name": "python3",
      "display_name": "Python 3"
    },
    "language_info": {
      "name": "python"
    }
  },
  "cells": [
    {
      "cell_type": "markdown",
      "source": [
        "# 1. Introducción a las Fuentes de Error\n",
        "\n",
        "En la resolución de problemas de ingeniería, las soluciones numéricas siempre son **aproximaciones**. Es crucial entender de dónde provienen los errores para garantizar la **confiabilidad** de nuestros modelos.\n",
        "\n",
        "El **Error Numérico Total ($\\epsilon_t$)** es la diferencia entre el valor verdadero del problema y la solución aproximada que obtenemos con la computadora.\n",
        "\n",
        "$$\\epsilon_t = \\text{Valor Verdadero} - \\text{Valor Aproximado}$$"
      ],
      "metadata": {
        "id": "8PPGz73b8-yD"
      }
    },
    {
      "cell_type": "markdown",
      "source": [
        "## 2. Clasificación de las Fuentes de Error\n",
        "\n",
        "| Tipo de Error | Origen | Consecuencia en el Cálculo |\n",
        "| :--- | :--- | :--- |\n",
        "| **Error de Planteamiento** | Simplificación del problema físico o ambiental para crear el modelo matemático. | El modelo no refleja el 100% de la realidad (Ej. Suponer $\\text{k}$ constante en el ambiente). |\n",
        "| **Error del Método (Truncamiento)** | Uso de un método numérico para aproximar una función o proceso matemático infinito (Ej. Expansión de Taylor, la fórmula de Euler). | Introduce un error sistemático que disminuye al reducir el tamaño del paso ($\\Delta \\text{t}$) o al usar métodos de mayor orden. |\n",
        "| **Errores de Representación y Redondeo** | La memoria finita de la computadora (32 o 64 bits) obliga a cortar o redondear números reales (como $\\pi$ o $1/3$). | Introduce pequeños errores aleatorios en cada operación aritmética, especialmente notables en precisiones bajas. |\n",
        "| **Errores de Propagación** | Un error inicial (de redondeo o truncamiento) se arrastra y amplifica a través de las operaciones sucesivas de un algoritmo. | Puede hacer que un algoritmo sea **inestable** si el problema está mal condicionado. |"
      ],
      "metadata": {
        "id": "lPiJ1FIR9CgK"
      }
    },
    {
      "cell_type": "markdown",
      "source": [
        "## 3. Métrica de Error: Residual y Error Relativo\n",
        "\n",
        "### Error Residual\n",
        "El error residual mide qué tanto la solución aproximada **satisface** la ecuación original. Si tenemos $\\text{f}(\\text{x}) = 0$, el residual es $R = \\text{f}(\\text{x}_{\\text{aprox}})$. Un residual cercano a cero indica que $\\text{x}_{\\text{aprox}}$ es una buena raíz de la ecuación.\n",
        "\n",
        "### Error Relativo ($\\epsilon_r$)\n",
        "Es la medida más útil, ya que estandariza el error absoluto.\n",
        "\n",
        "$$\\epsilon_r = \\frac{|\\text{Error Absoluto}|}{|\\text{Valor Verdadero}|} \\times 100\\%$$"
      ],
      "metadata": {
        "id": "p4qNjMQU9FuN"
      }
    },
    {
      "cell_type": "markdown",
      "source": [
        "# 4. Ejemplo Integrador en Python: Decaimiento de Contaminantes\n",
        "\n",
        "**Problema:** Determinar la concentración de un contaminante ($\\text{C}$) después de 2 días.\n",
        "**Modelo Analítico:** $\\text{C}(\\text{t}) = \\text{C}_0 e^{-\\text{kt}}$\n",
        "\n",
        "**Parámetros:**\n",
        "* Concentración Inicial ($\\text{C}_0$): $10/3 \\approx 3.33333333333$ mg/L\n",
        "* Tasa de Decaimiento ($\\text{k}$): $0.25$ $\\text{días}^{-1}$\n",
        "* Tiempo ($\\text{t}$): $2$ días"
      ],
      "metadata": {
        "id": "Ae-uG5J99IQZ"
      }
    },
    {
      "cell_type": "code",
      "execution_count": null,
      "metadata": {
        "id": "PSV_KPn7qg3p",
        "colab": {
          "base_uri": "https://localhost:8080/"
        },
        "outputId": "a4f92db1-eccc-4d5f-d620-ab94e1d44f46"
      },
      "outputs": [
        {
          "output_type": "stream",
          "name": "stdout",
          "text": [
            "VALOR ANALÍTICO (Verdadero): 2.0217688657 mg/L\n",
            "\n",
            "--- ANÁLISIS DEL CÁLCULO DIRECTO ---\n",
            "C0 (32-bit): 3.3333332539\n",
            "C (32-bit, con ERROR DE REDONDEO/PROPAGACIÓN): 2.0217688084 mg/L\n",
            "\n",
            "Error Numérico Total (Absoluto): 0.0000000573\n",
            "Error Relativo (por Redondeo/Propagación): 0.00000284 %\n",
            "\n",
            "--- ANÁLISIS DEL ERROR RESIDUAL ---\n",
            "Solución Aproximada (Euler, con Error del Método): 2.0315000000\n",
            "Error Residual (f(C_aprox)): 0.0097311343\n"
          ]
        }
      ],
      "source": [
        "import numpy as np\n",
        "\n",
        "# --- 1. Valores Teóricos/Verdaderos ---\n",
        "# C_0 es 10/3 (un número periódico real)\n",
        "C0_verdadero = 10 / 3\n",
        "k_verdadero = 0.25\n",
        "t_analisis = 2\n",
        "\n",
        "# Valor Verdadero (usando alta precisión de NumPy para simular el valor 'exacto')\n",
        "C_verdadero = C0_verdadero * np.exp(-k_verdadero * t_analisis)\n",
        "\n",
        "# Impresión del Valor Verdadero\n",
        "print(f\"VALOR ANALÍTICO (Verdadero): {C_verdadero:.10f} mg/L\\n\")\n",
        "\n",
        "\n",
        "# --- 2. Simulando Errores de Representación y Redondeo (Precisión Simple) ---\n",
        "# Usamos np.float32 (precisión simple) para simular la limitación de la máquina\n",
        "# Esto introduce un ERROR DE REDONDEO/REPRESENTACIÓN en C0.\n",
        "C0_aprox_32 = np.float32(10 / 3)\n",
        "k_aprox_32 = np.float32(0.25)\n",
        "t_aprox_32 = np.float32(2)\n",
        "\n",
        "# La operación completa acumula el error de redondeo y produce ERROR DE PROPAGACIÓN\n",
        "C_redondeo = C0_aprox_32 * np.exp(-k_aprox_32 * t_aprox_32)\n",
        "\n",
        "print(\"--- ANÁLISIS DEL CÁLCULO DIRECTO ---\")\n",
        "print(f\"C0 (32-bit): {C0_aprox_32:.10f}\")\n",
        "print(f\"C (32-bit, con ERROR DE REDONDEO/PROPAGACIÓN): {C_redondeo:.10f} mg/L\")\n",
        "\n",
        "# Calculamos la magnitud del Error Numérico Total aquí\n",
        "error_total_abs = abs(C_verdadero - C_redondeo)\n",
        "error_relativo = (error_total_abs / C_verdadero) * 100\n",
        "\n",
        "print(f\"\\nError Numérico Total (Absoluto): {error_total_abs:.10f}\")\n",
        "print(f\"Error Relativo (por Redondeo/Propagación): {error_relativo:.8f} %\")\n",
        "\n",
        "\n",
        "# --- 3. Error Residual (Evaluando la Ecuación) ---\n",
        "# Usamos un valor aproximado hipotético (simulando una solución del método de Euler)\n",
        "C_aprox_euler = 2.0315000000 # Supuesta solución obtenida por un método (ej. Euler, con ERROR DEL MÉTODO)\n",
        "\n",
        "# La ecuación analítica es f(C) = C - C0 * exp(-kt) = 0\n",
        "residual = C_aprox_euler - (C0_verdadero * np.exp(-k_verdadero * t_analisis))\n",
        "\n",
        "print(\"\\n--- ANÁLISIS DEL ERROR RESIDUAL ---\")\n",
        "print(f\"Solución Aproximada (Euler, con Error del Método): {C_aprox_euler:.10f}\")\n",
        "print(f\"Error Residual (f(C_aprox)): {residual:.10f}\")\n",
        "\n",
        "# Nota sobre el Error de Planteamiento: Este error no es cuantificable con Python,\n",
        "# ya que requiere una medición de campo real vs. el modelo.\n",
        "# Se discute en la celda de texto."
      ]
    },
    {
      "cell_type": "markdown",
      "source": [
        "## 5. Conclusiones para la Clase\n",
        "\n",
        "* **Error de Planteamiento:** No se puede eliminar. Se minimiza mejorando el modelo (ej. usando un $\\text{k}(\\text{T})$ en lugar de una constante).\n",
        "* **Error del Método (Truncamiento):** Se puede reducir usando métodos de orden superior (Ej. Runge-Kutta en lugar de Euler) o reduciendo el paso ($\\Delta \\text{t}$).\n",
        "* **Errores de Redondeo/Propagación:** Se pueden mitigar usando **doble precisión** (`float64` en Python/NumPy) y algoritmos **numéricamente estables**.\n",
        "* **La Calidad de la Solución** se mide con el **Error Relativo** ($\\epsilon_r$) y la cercanía del **Residual** a cero.\n"
      ],
      "metadata": {
        "id": "2Svep_Wj93GN"
      }
    },
    {
      "cell_type": "code",
      "source": [],
      "metadata": {
        "id": "RcE4t7Xv9x5v"
      },
      "execution_count": null,
      "outputs": []
    }
  ]
}