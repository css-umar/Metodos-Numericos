{
  "nbformat": 4,
  "nbformat_minor": 0,
  "metadata": {
    "colab": {
      "provenance": [],
      "authorship_tag": "ABX9TyNJvEBVYJHtjXyDYA1v3OSe",
      "include_colab_link": true
    },
    "kernelspec": {
      "name": "python3",
      "display_name": "Python 3"
    },
    "language_info": {
      "name": "python"
    }
  },
  "cells": [
    {
      "cell_type": "markdown",
      "metadata": {
        "id": "view-in-github",
        "colab_type": "text"
      },
      "source": [
        "<a href=\"https://colab.research.google.com/github/css-umar/Metodos-Numericos/blob/master/EjerciciosReueltos/MetodoMuller.ipynb\" target=\"_parent\"><img src=\"https://colab.research.google.com/assets/colab-badge.svg\" alt=\"Open In Colab\"/></a>"
      ]
    },
    {
      "cell_type": "code",
      "source": [
        "import numpy as np\n"
      ],
      "metadata": {
        "id": "RDa6JrU7brgU"
      },
      "execution_count": 3,
      "outputs": []
    },
    {
      "cell_type": "code",
      "execution_count": 4,
      "metadata": {
        "id": "cnozh7mtaZsy"
      },
      "outputs": [],
      "source": [
        "def f(x):\n",
        "  return x**3+2*x**2+10*x-20"
      ]
    },
    {
      "cell_type": "code",
      "source": [
        "#Valores iniciales\n",
        "x0 = 0.0\n",
        "x1 = 1.0\n",
        "x2 = 2.0\n",
        "\n",
        "# Criterios de convergencia\n",
        "EPSILON = 0.0001\n",
        "MAXIT = 50\n",
        "for i in range(MAXIT):\n",
        "  # Evaluamos la función en los valores iniciales propuestos\n",
        "  f0 = f(x0)\n",
        "  f1 = f(x1)\n",
        "  f2 = f(x2)\n",
        "\n",
        "  fx1x2 = (f1-f0)/(x1-x0)\n",
        "  fx2x1 = (f2-f1)/(x2-x1)\n",
        "  fx2x1x0 = (fx2x1 - fx1x2)/(x2-x0)\n",
        "\n",
        "  # Con los valores de f0, f1, f2 calculamos los coeficientes del p(x) = a0+a1x+a2x**2\n",
        "  a2 = fx2x1x0\n",
        "  a1 = fx2x1 - (x2+x1)*a2\n",
        "  a0 = f2 - x2*(fx2x1-x1*a2)\n",
        "\n",
        "  # Con los coeficientes se obtiene el denominador con signos diferentes\n",
        "\n",
        "  den1 = -a1+(a1**2-4*a0*a2)**(1/2)\n",
        "  den2 = -a1-(a1**2-4*a0*a2)**(1/2)\n",
        "\n",
        "  # Con los den1 y den2 se decide cuál valor actualizar\n",
        "\n",
        "  if abs(den1)>abs(den2):\n",
        "    x3 = 2*a0/(-a1+(a1**2-4*a0*a2)**(1/2))\n",
        "    x0 = x1\n",
        "    x1 = x2\n",
        "    x2 = x3\n",
        "  else:\n",
        "    x3 = 2*a0/(-a1-(a1**2-4*a0*a2)**(1/2))\n",
        "    x0 = x1\n",
        "    x1 = x2\n",
        "    x2 = x3\n",
        "\n",
        "  if abs(f(x3))<= EPSILON:\n",
        "    print(i,x3)\n",
        "    break\n",
        "\n",
        "\n",
        "\n",
        "\n",
        "\n"
      ],
      "metadata": {
        "colab": {
          "base_uri": "https://localhost:8080/"
        },
        "id": "Ll0iX2v_bwny",
        "outputId": "9cefd352-b939-45b4-9bde-9b639b7a6b5c"
      },
      "execution_count": 9,
      "outputs": [
        {
          "output_type": "stream",
          "name": "stdout",
          "text": [
            "2 1.3688080368924294\n"
          ]
        }
      ]
    },
    {
      "cell_type": "markdown",
      "metadata": {
        "id": "60eb58e4"
      },
      "source": [
        "Puedes instalar bibliotecas de Python usando `pip`. Por ejemplo, para instalar la biblioteca `numpy`, usarías el siguiente comando:"
      ]
    },
    {
      "cell_type": "code",
      "metadata": {
        "id": "83ff3cab"
      },
      "source": [
        "%pip install numpy"
      ],
      "execution_count": null,
      "outputs": []
    },
    {
      "cell_type": "markdown",
      "metadata": {
        "id": "7e8a54da"
      },
      "source": [
        "Si necesitas instalar varias bibliotecas a la vez, puedes listarlas separadas por espacios:"
      ]
    },
    {
      "cell_type": "code",
      "metadata": {
        "id": "41cc8de0"
      },
      "source": [
        "%pip install pandas matplotlib seaborn"
      ],
      "execution_count": null,
      "outputs": []
    }
  ]
}